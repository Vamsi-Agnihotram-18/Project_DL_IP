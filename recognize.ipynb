{
 "cells": [
  {
   "cell_type": "code",
   "execution_count": 1,
   "metadata": {},
   "outputs": [
    {
     "name": "stderr",
     "output_type": "stream",
     "text": [
      "Using TensorFlow backend.\n"
     ]
    }
   ],
   "source": [
    "from keras.models import load_model\n",
    "model=load_model(\"vamsimodel.h5\")"
   ]
  },
  {
   "cell_type": "code",
   "execution_count": 2,
   "metadata": {},
   "outputs": [],
   "source": [
    "list1 = []\n",
    "for i in range(3):\n",
    "    list1.append(0)"
   ]
  },
  {
   "cell_type": "code",
   "execution_count": 3,
   "metadata": {},
   "outputs": [
    {
     "name": "stdout",
     "output_type": "stream",
     "text": [
      "Number of faces detected: 1\n",
      "Data Found\n"
     ]
    }
   ],
   "source": [
    "import numpy as np\n",
    "import cv2\n",
    "face_cascade = cv2.CascadeClassifier(r\"haarcascade_frontalface_default.xml\")\n",
    "# Defining a function that will do the detections\n",
    "def detect1(gray, frame):\n",
    "    faces = face_cascade.detectMultiScale(gray, 1.3, 5)\n",
    "    for (x, y, w, h) in faces: # x , y co-ordinates of the face start , width , height .\n",
    "        print (\"Number of faces detected: \" + str(faces.shape[0]))\n",
    "        print(\"Data Found\")\n",
    "        cv2.putText(frame, \"Number of faces detected: \" + str(faces.shape[0]), (10, 30),\n",
    "                    cv2.FONT_HERSHEY_SIMPLEX, 0.7, (0, 0, 255), 2)\n",
    "        cv2.rectangle(frame, (x, y), (x+w, y+h), (255, 0, 0), 2)\n",
    "        newframe_color = frame[y:y+h, x:x+w]\n",
    "        global i\n",
    "        FaceFileName = r\"D:\\project\\dataset/input\" + \".jpg\"\n",
    "        cv2.imwrite(FaceFileName, newframe_color)\n",
    "        i = i+1\n",
    "    return frame\n",
    "\n",
    "# Doing some Face Recognition with the webcam\n",
    "i = 0\n",
    "capture = cv2.VideoCapture(0)\n",
    "while (i<1):\n",
    "    ret,frame = capture.read()\n",
    "    gray = cv2.cvtColor(frame, cv2.COLOR_BGR2GRAY)\n",
    "    canvas = detect1(gray, frame)\n",
    "    cv2.imshow('Video', canvas)\n",
    "    if cv2.waitKey(1) & 0xFF == ord('q'):\n",
    "        break\n",
    "capture.release()\n",
    "cv2.destroyAllWindows()"
   ]
  },
  {
   "cell_type": "code",
   "execution_count": 4,
   "metadata": {},
   "outputs": [],
   "source": [
    "from keras.models import load_model\n",
    "model=load_model('vamsimodel.h5')\n",
    "model.compile(optimizer='adam',loss='categorical_crossentropy', metrics=['accuracy'])\n",
    "from skimage.transform import resize\n",
    "def detect(frame):\n",
    "    try:\n",
    "        img=resize(frame,(64,64))\n",
    "        img=np.expand_dims(img,axis=0)\n",
    "        if(np.max(img)>1):\n",
    "            img=img/255.0\n",
    "        prediction=model.predict(img)\n",
    "        print(prediction)\n",
    "        prediction_class=model.predict_classes(img)\n",
    "        print(prediction_class)\n",
    "        num=int(prediction_class)\n",
    "        list1[num]=list1[num]+1\n",
    "        print(list1)\n",
    "    except AttributeError:\n",
    "        print('shape not found')  "
   ]
  },
  {
   "cell_type": "code",
   "execution_count": 5,
   "metadata": {},
   "outputs": [
    {
     "name": "stdout",
     "output_type": "stream",
     "text": [
      "[[7.0673710e-01 4.0429752e-12 1.0767919e-07 2.9326278e-01]]\n",
      "[0]\n",
      "[1, 0, 0]\n"
     ]
    }
   ],
   "source": [
    "frame=cv2.imread(r'D:\\project\\dataset/input.jpg')\n",
    "data = detect(frame)"
   ]
  },
  {
   "cell_type": "code",
   "execution_count": 6,
   "metadata": {},
   "outputs": [],
   "source": [
    "f= open(\"attendance.txt\",\"w+\")\n",
    "for i in range(len(list1)):\n",
    "    x=list1[i]\n",
    "    f.write(str(x))   "
   ]
  },
  {
   "cell_type": "code",
   "execution_count": 7,
   "metadata": {},
   "outputs": [],
   "source": [
    "f= open(\"attendance.txt\",\"r\")\n",
    "contents=f.read()\n",
    "list1=list(contents)"
   ]
  },
  {
   "cell_type": "code",
   "execution_count": null,
   "metadata": {},
   "outputs": [],
   "source": []
  }
 ],
 "metadata": {
  "kernelspec": {
   "display_name": "Python 3",
   "language": "python",
   "name": "python3"
  },
  "language_info": {
   "codemirror_mode": {
    "name": "ipython",
    "version": 3
   },
   "file_extension": ".py",
   "mimetype": "text/x-python",
   "name": "python",
   "nbconvert_exporter": "python",
   "pygments_lexer": "ipython3",
   "version": "3.7.4"
  }
 },
 "nbformat": 4,
 "nbformat_minor": 2
}
